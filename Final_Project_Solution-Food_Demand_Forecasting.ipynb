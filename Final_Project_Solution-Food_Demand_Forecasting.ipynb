{
 "cells": [
  {
   "cell_type": "markdown",
   "metadata": {
    "colab_type": "text",
    "id": "7BRGx3cNSAam"
   },
   "source": [
    "# Problem Statement\n",
    "\n",
    "Forecast the demand for the fulfillment centers for the next 10 weeks (Weeks: 146-155), based on the  following information -\n",
    "\n",
    "    - Historical data of demand for a product-center combination (Weeks: 1 to 145)\n",
    "    - Product(Meal) features such as category, sub-category, current price and discount\n",
    "    - Information for fulfillment center like center area, city information etc.\n",
    "    \n",
    "# Data Dictionary\n",
    "\n",
    "\n",
    "Weekly Demand Data- \n",
    "- **id** -Unique ID\n",
    "- **week** - week no\n",
    "- **center_id** - Unique ID for fulfillment center\n",
    "- **meal_id** - Unique ID for Meal\n",
    "- **checkout_price** -Final price including discount, taxes & delivery charges\n",
    "- **base_price** - base price of meal\n",
    "- **emailer_for_promotion** - Emailer sent for promotion of meal\n",
    "- **homepage_featured** - Meal featured at homepage\n",
    "- **num_orders** - (Target) Orders Count\n",
    "\n",
    "Fulfillment Center Data-\n",
    "- **center_id** - Unique ID for fulfillment center\n",
    "- **city_code** - Unique code for city\n",
    "- **region_code** - Unique code for region\n",
    "- **center_type** - Anonymized center type\n",
    "- **op_area** - Area of operation (in km^2)\n",
    "\n",
    "\n",
    "Meal Information Data-\n",
    "- **meal_id** - Unique ID for Meal\n",
    "- **category** - Type of meal (beverages/snacks/soups….)\n",
    "- **cuisine** - Meal cuisine (Indian/Italian/…)"
   ]
  },
  {
   "cell_type": "markdown",
   "metadata": {
    "colab_type": "text",
    "id": "qXdwzzgUSAas"
   },
   "source": [
    "# Loading Required Libraries and Dataset"
   ]
  },
  {
   "cell_type": "code",
   "execution_count": 67,
   "metadata": {
    "colab": {},
    "colab_type": "code",
    "id": "zwZWZvtaSAaw"
   },
   "outputs": [],
   "source": [
    "import pandas as pd\n",
    "import numpy as np\n",
    "import matplotlib.pyplot as plt\n",
    "import seaborn as sns"
   ]
  },
  {
   "cell_type": "code",
   "execution_count": 68,
   "metadata": {
    "colab": {},
    "colab_type": "code",
    "id": "LbXa1v7bSAa6"
   },
   "outputs": [],
   "source": [
    "# reading the data files\n",
    "train = pd.read_csv('train_GzS76OK/train.csv')\n",
    "meal_info = pd.read_csv('train_GzS76OK/meal_info.csv')\n",
    "centre_info = pd.read_csv('train_GzS76OK/fulfilment_center_info.csv')\n",
    "\n",
    "test = pd.read_csv('test_Kyl30wa.csv')\n",
    "sample_sub = pd.read_csv('sample_submission_hSlSoT6.csv')"
   ]
  },
  {
   "cell_type": "code",
   "execution_count": 69,
   "metadata": {
    "colab": {},
    "colab_type": "code",
    "id": "W8UfErWgSAbB"
   },
   "outputs": [
    {
     "data": {
      "text/plain": [
       "((456548, 9), (51, 3), (77, 5))"
      ]
     },
     "execution_count": 69,
     "metadata": {},
     "output_type": "execute_result"
    }
   ],
   "source": [
    "#checking shape\n",
    "train.shape, meal_info.shape, centre_info.shape"
   ]
  },
  {
   "cell_type": "markdown",
   "metadata": {
    "colab_type": "text",
    "id": "YJJljz3KSAbK"
   },
   "source": [
    "# Understanding the Data"
   ]
  },
  {
   "cell_type": "markdown",
   "metadata": {
    "colab_type": "text",
    "id": "4RjqEJbzSAbL"
   },
   "source": [
    "### Weekly Demand Data"
   ]
  },
  {
   "cell_type": "code",
   "execution_count": 70,
   "metadata": {
    "colab": {
     "base_uri": "https://localhost:8080/",
     "height": 226
    },
    "colab_type": "code",
    "id": "WhC22bBfSAbO",
    "outputId": "6e45ab61-7b5a-4391-8512-25c21173ee64"
   },
   "outputs": [
    {
     "data": {
      "text/html": [
       "<div>\n",
       "<style scoped>\n",
       "    .dataframe tbody tr th:only-of-type {\n",
       "        vertical-align: middle;\n",
       "    }\n",
       "\n",
       "    .dataframe tbody tr th {\n",
       "        vertical-align: top;\n",
       "    }\n",
       "\n",
       "    .dataframe thead th {\n",
       "        text-align: right;\n",
       "    }\n",
       "</style>\n",
       "<table border=\"1\" class=\"dataframe\">\n",
       "  <thead>\n",
       "    <tr style=\"text-align: right;\">\n",
       "      <th></th>\n",
       "      <th>id</th>\n",
       "      <th>week</th>\n",
       "      <th>center_id</th>\n",
       "      <th>meal_id</th>\n",
       "      <th>checkout_price</th>\n",
       "      <th>base_price</th>\n",
       "      <th>emailer_for_promotion</th>\n",
       "      <th>homepage_featured</th>\n",
       "      <th>num_orders</th>\n",
       "    </tr>\n",
       "  </thead>\n",
       "  <tbody>\n",
       "    <tr>\n",
       "      <th>0</th>\n",
       "      <td>1379560</td>\n",
       "      <td>1</td>\n",
       "      <td>55</td>\n",
       "      <td>1885</td>\n",
       "      <td>136.83</td>\n",
       "      <td>152.29</td>\n",
       "      <td>0</td>\n",
       "      <td>0</td>\n",
       "      <td>177</td>\n",
       "    </tr>\n",
       "    <tr>\n",
       "      <th>1</th>\n",
       "      <td>1466964</td>\n",
       "      <td>1</td>\n",
       "      <td>55</td>\n",
       "      <td>1993</td>\n",
       "      <td>136.83</td>\n",
       "      <td>135.83</td>\n",
       "      <td>0</td>\n",
       "      <td>0</td>\n",
       "      <td>270</td>\n",
       "    </tr>\n",
       "    <tr>\n",
       "      <th>2</th>\n",
       "      <td>1346989</td>\n",
       "      <td>1</td>\n",
       "      <td>55</td>\n",
       "      <td>2539</td>\n",
       "      <td>134.86</td>\n",
       "      <td>135.86</td>\n",
       "      <td>0</td>\n",
       "      <td>0</td>\n",
       "      <td>189</td>\n",
       "    </tr>\n",
       "    <tr>\n",
       "      <th>3</th>\n",
       "      <td>1338232</td>\n",
       "      <td>1</td>\n",
       "      <td>55</td>\n",
       "      <td>2139</td>\n",
       "      <td>339.50</td>\n",
       "      <td>437.53</td>\n",
       "      <td>0</td>\n",
       "      <td>0</td>\n",
       "      <td>54</td>\n",
       "    </tr>\n",
       "    <tr>\n",
       "      <th>4</th>\n",
       "      <td>1448490</td>\n",
       "      <td>1</td>\n",
       "      <td>55</td>\n",
       "      <td>2631</td>\n",
       "      <td>243.50</td>\n",
       "      <td>242.50</td>\n",
       "      <td>0</td>\n",
       "      <td>0</td>\n",
       "      <td>40</td>\n",
       "    </tr>\n",
       "  </tbody>\n",
       "</table>\n",
       "</div>"
      ],
      "text/plain": [
       "        id  week  center_id  meal_id  checkout_price  base_price  \\\n",
       "0  1379560     1         55     1885          136.83      152.29   \n",
       "1  1466964     1         55     1993          136.83      135.83   \n",
       "2  1346989     1         55     2539          134.86      135.86   \n",
       "3  1338232     1         55     2139          339.50      437.53   \n",
       "4  1448490     1         55     2631          243.50      242.50   \n",
       "\n",
       "   emailer_for_promotion  homepage_featured  num_orders  \n",
       "0                      0                  0         177  \n",
       "1                      0                  0         270  \n",
       "2                      0                  0         189  \n",
       "3                      0                  0          54  \n",
       "4                      0                  0          40  "
      ]
     },
     "execution_count": 70,
     "metadata": {},
     "output_type": "execute_result"
    }
   ],
   "source": [
    "train.head()"
   ]
  },
  {
   "cell_type": "code",
   "execution_count": 71,
   "metadata": {
    "colab": {
     "base_uri": "https://localhost:8080/",
     "height": 191
    },
    "colab_type": "code",
    "id": "QPR3ZR6ASAbU",
    "outputId": "cbd0606d-386b-4804-c866-38f7d032536c"
   },
   "outputs": [
    {
     "data": {
      "text/plain": [
       "id                         int64\n",
       "week                       int64\n",
       "center_id                  int64\n",
       "meal_id                    int64\n",
       "checkout_price           float64\n",
       "base_price               float64\n",
       "emailer_for_promotion      int64\n",
       "homepage_featured          int64\n",
       "num_orders                 int64\n",
       "dtype: object"
      ]
     },
     "execution_count": 71,
     "metadata": {},
     "output_type": "execute_result"
    }
   ],
   "source": [
    "train.dtypes"
   ]
  },
  {
   "cell_type": "markdown",
   "metadata": {
    "colab_type": "text",
    "id": "ahPZXjPKSAbx"
   },
   "source": [
    "- Week, center_id and meal_id will have a finite number of values.\n",
    "- 'emailer_for_promotion' and 'homepage_featured' have binary values. "
   ]
  },
  {
   "cell_type": "markdown",
   "metadata": {
    "colab_type": "text",
    "id": "HusDBUO1SAb3"
   },
   "source": [
    "#### Week Number"
   ]
  },
  {
   "cell_type": "code",
   "execution_count": 72,
   "metadata": {
    "colab": {
     "base_uri": "https://localhost:8080/",
     "height": 34
    },
    "colab_type": "code",
    "id": "A8nFPFuXSAb7",
    "outputId": "532f9c89-d16b-4db7-ccf3-d2be0cb322cf"
   },
   "outputs": [
    {
     "data": {
      "text/plain": [
       "(1, 145)"
      ]
     },
     "execution_count": 72,
     "metadata": {},
     "output_type": "execute_result"
    }
   ],
   "source": [
    "train['week'].min(), train['week'].max()"
   ]
  },
  {
   "cell_type": "code",
   "execution_count": 73,
   "metadata": {
    "colab": {
     "base_uri": "https://localhost:8080/",
     "height": 34
    },
    "colab_type": "code",
    "id": "K_JXPoysSAcD",
    "outputId": "617ebaf5-8109-4be0-fcdc-bacca390075f"
   },
   "outputs": [
    {
     "data": {
      "text/plain": [
       "145"
      ]
     },
     "execution_count": 73,
     "metadata": {},
     "output_type": "execute_result"
    }
   ],
   "source": [
    "train['week'].nunique()"
   ]
  },
  {
   "cell_type": "markdown",
   "metadata": {
    "colab_type": "text",
    "id": "4ZEGgdk2SAcJ"
   },
   "source": [
    "- The historical data is for a period of 145 weeks, with no week missing in between. \n",
    "- We have atleast one row against each week number. "
   ]
  },
  {
   "cell_type": "markdown",
   "metadata": {
    "colab_type": "text",
    "id": "vsyplMHHSAcL"
   },
   "source": [
    "#### center_id and meal_id"
   ]
  },
  {
   "cell_type": "code",
   "execution_count": 74,
   "metadata": {
    "colab": {
     "base_uri": "https://localhost:8080/",
     "height": 34
    },
    "colab_type": "code",
    "id": "7ALLx003SAcN",
    "outputId": "7fbc381e-8e41-4e5d-8320-e9cf3102df8f"
   },
   "outputs": [
    {
     "data": {
      "text/plain": [
       "77"
      ]
     },
     "execution_count": 74,
     "metadata": {},
     "output_type": "execute_result"
    }
   ],
   "source": [
    "train['center_id'].nunique()"
   ]
  },
  {
   "cell_type": "code",
   "execution_count": 75,
   "metadata": {
    "colab": {
     "base_uri": "https://localhost:8080/",
     "height": 225
    },
    "colab_type": "code",
    "id": "mRZZuofrSAcU",
    "outputId": "964502ff-358a-479c-84aa-175bd9b75347"
   },
   "outputs": [
    {
     "data": {
      "text/plain": [
       "91     3432\n",
       "41     4083\n",
       "162    4366\n",
       "57     4501\n",
       "139    4627\n",
       "       ... \n",
       "67     6915\n",
       "43     6970\n",
       "52     6993\n",
       "10     7015\n",
       "13     7046\n",
       "Name: center_id, Length: 77, dtype: int64"
      ]
     },
     "execution_count": 75,
     "metadata": {},
     "output_type": "execute_result"
    }
   ],
   "source": [
    "(train['center_id'].value_counts()).sort_values()"
   ]
  },
  {
   "cell_type": "markdown",
   "metadata": {
    "colab_type": "text",
    "id": "yDe4i5MUSAca"
   },
   "source": [
    "- There are a total of 77 unique fulfillment centers across the various cities. \n",
    "- Each of the store id is present atleast 3432 in the data.\n",
    "\n",
    "Do each of the stores hold one entry per week? Let us check"
   ]
  },
  {
   "cell_type": "code",
   "execution_count": 76,
   "metadata": {
    "colab": {
     "base_uri": "https://localhost:8080/",
     "height": 34
    },
    "colab_type": "code",
    "id": "WJXZfov_SAcc",
    "outputId": "896b328e-7096-465f-ec95-05684eca1331"
   },
   "outputs": [
    {
     "data": {
      "text/plain": [
       "(11140, 2)"
      ]
     },
     "execution_count": 76,
     "metadata": {},
     "output_type": "execute_result"
    }
   ],
   "source": [
    "train[['week','center_id']].drop_duplicates().shape"
   ]
  },
  {
   "cell_type": "code",
   "execution_count": 77,
   "metadata": {
    "colab": {
     "base_uri": "https://localhost:8080/",
     "height": 34
    },
    "colab_type": "code",
    "id": "ak2kddx8SAch",
    "outputId": "b1a31c42-3a1a-40a4-8fdb-462d16d1ef26"
   },
   "outputs": [
    {
     "data": {
      "text/plain": [
       "11165"
      ]
     },
     "execution_count": 77,
     "metadata": {},
     "output_type": "execute_result"
    }
   ],
   "source": [
    "77*145"
   ]
  },
  {
   "cell_type": "markdown",
   "metadata": {
    "colab_type": "text",
    "id": "M-slx58ASAcm"
   },
   "source": [
    "If every store had an entry every week, there would be 11165 unique week-center combinations. The unique combinations here are 11140, hence not all stores have entry per week. "
   ]
  },
  {
   "cell_type": "code",
   "execution_count": 78,
   "metadata": {
    "colab": {
     "base_uri": "https://localhost:8080/",
     "height": 34
    },
    "colab_type": "code",
    "id": "ReMn2OW8SAco",
    "outputId": "bdec040f-b8d9-44f8-a01e-e128c67f97d8"
   },
   "outputs": [
    {
     "data": {
      "text/plain": [
       "51"
      ]
     },
     "execution_count": 78,
     "metadata": {},
     "output_type": "execute_result"
    }
   ],
   "source": [
    "train['meal_id'].nunique()"
   ]
  },
  {
   "cell_type": "code",
   "execution_count": 79,
   "metadata": {
    "colab": {
     "base_uri": "https://localhost:8080/",
     "height": 121
    },
    "colab_type": "code",
    "id": "lomOr3ghSAcu",
    "outputId": "8bd13350-0a0b-46e6-eb75-c5a8f412c1f3"
   },
   "outputs": [
    {
     "data": {
      "text/plain": [
       "2104    2357\n",
       "2956    3319\n",
       "1847    4084\n",
       "1198    4206\n",
       "2494    4206\n",
       "Name: meal_id, dtype: int64"
      ]
     },
     "execution_count": 79,
     "metadata": {},
     "output_type": "execute_result"
    }
   ],
   "source": [
    "((train['meal_id'].value_counts()).sort_values()).head()"
   ]
  },
  {
   "cell_type": "code",
   "execution_count": 80,
   "metadata": {
    "colab": {
     "base_uri": "https://localhost:8080/",
     "height": 34
    },
    "colab_type": "code",
    "id": "x-G0qH1TSAcz",
    "outputId": "9eb162af-935d-4635-e083-bd7b5d76756f"
   },
   "outputs": [
    {
     "data": {
      "text/plain": [
       "(7173, 2)"
      ]
     },
     "execution_count": 80,
     "metadata": {},
     "output_type": "execute_result"
    }
   ],
   "source": [
    "train[['week','meal_id']].drop_duplicates().shape"
   ]
  },
  {
   "cell_type": "code",
   "execution_count": 81,
   "metadata": {
    "colab": {
     "base_uri": "https://localhost:8080/",
     "height": 34
    },
    "colab_type": "code",
    "id": "UOFOgp_GSAc4",
    "outputId": "c3417cc3-d4a7-4df7-9344-6a74764f28b9"
   },
   "outputs": [
    {
     "data": {
      "text/plain": [
       "7395"
      ]
     },
     "execution_count": 81,
     "metadata": {},
     "output_type": "execute_result"
    }
   ],
   "source": [
    "51*145"
   ]
  },
  {
   "cell_type": "markdown",
   "metadata": {
    "colab_type": "text",
    "id": "svP-2cgoSAc9"
   },
   "source": [
    "- Every meal ID does not have a record per week. \n",
    "- There were some meal ID which were not sold in a particular week and do not hold any entry in the weekly demand data."
   ]
  },
  {
   "cell_type": "markdown",
   "metadata": {
    "colab_type": "text",
    "id": "QbpfsgMYSAc_"
   },
   "source": [
    "#### checkout_price and base_price"
   ]
  },
  {
   "cell_type": "code",
   "execution_count": 82,
   "metadata": {
    "colab": {
     "base_uri": "https://localhost:8080/",
     "height": 300
    },
    "colab_type": "code",
    "id": "yt7oKQuISAdB",
    "outputId": "69e72d60-3547-480e-bd85-9cd3662c7ef8"
   },
   "outputs": [
    {
     "data": {
      "text/html": [
       "<div>\n",
       "<style scoped>\n",
       "    .dataframe tbody tr th:only-of-type {\n",
       "        vertical-align: middle;\n",
       "    }\n",
       "\n",
       "    .dataframe tbody tr th {\n",
       "        vertical-align: top;\n",
       "    }\n",
       "\n",
       "    .dataframe thead th {\n",
       "        text-align: right;\n",
       "    }\n",
       "</style>\n",
       "<table border=\"1\" class=\"dataframe\">\n",
       "  <thead>\n",
       "    <tr style=\"text-align: right;\">\n",
       "      <th></th>\n",
       "      <th>checkout_price</th>\n",
       "      <th>base_price</th>\n",
       "    </tr>\n",
       "  </thead>\n",
       "  <tbody>\n",
       "    <tr>\n",
       "      <th>count</th>\n",
       "      <td>456548.000000</td>\n",
       "      <td>456548.000000</td>\n",
       "    </tr>\n",
       "    <tr>\n",
       "      <th>mean</th>\n",
       "      <td>332.238933</td>\n",
       "      <td>354.156627</td>\n",
       "    </tr>\n",
       "    <tr>\n",
       "      <th>std</th>\n",
       "      <td>152.939723</td>\n",
       "      <td>160.715914</td>\n",
       "    </tr>\n",
       "    <tr>\n",
       "      <th>min</th>\n",
       "      <td>2.970000</td>\n",
       "      <td>55.350000</td>\n",
       "    </tr>\n",
       "    <tr>\n",
       "      <th>25%</th>\n",
       "      <td>228.950000</td>\n",
       "      <td>243.500000</td>\n",
       "    </tr>\n",
       "    <tr>\n",
       "      <th>50%</th>\n",
       "      <td>296.820000</td>\n",
       "      <td>310.460000</td>\n",
       "    </tr>\n",
       "    <tr>\n",
       "      <th>75%</th>\n",
       "      <td>445.230000</td>\n",
       "      <td>458.870000</td>\n",
       "    </tr>\n",
       "    <tr>\n",
       "      <th>max</th>\n",
       "      <td>866.270000</td>\n",
       "      <td>866.270000</td>\n",
       "    </tr>\n",
       "  </tbody>\n",
       "</table>\n",
       "</div>"
      ],
      "text/plain": [
       "       checkout_price     base_price\n",
       "count   456548.000000  456548.000000\n",
       "mean       332.238933     354.156627\n",
       "std        152.939723     160.715914\n",
       "min          2.970000      55.350000\n",
       "25%        228.950000     243.500000\n",
       "50%        296.820000     310.460000\n",
       "75%        445.230000     458.870000\n",
       "max        866.270000     866.270000"
      ]
     },
     "execution_count": 82,
     "metadata": {},
     "output_type": "execute_result"
    }
   ],
   "source": [
    "train[['checkout_price', 'base_price']].describe()"
   ]
  },
  {
   "cell_type": "code",
   "execution_count": 83,
   "metadata": {
    "colab": {
     "base_uri": "https://localhost:8080/",
     "height": 409
    },
    "colab_type": "code",
    "id": "h2Js2XiaSAdF",
    "outputId": "5b7e1707-49e3-49a1-ca19-7c17f00b8b47"
   },
   "outputs": [
    {
     "data": {
      "image/png": "[encoded data removed]",
      "text/plain": [
       "<Figure size 1152x432 with 2 Axes>"
      ]
     },
     "metadata": {
      "needs_background": "light"
     },
     "output_type": "display_data"
    }
   ],
   "source": [
    "fig, (ax1, ax2) = plt.subplots(ncols=2, figsize=(16, 6))\n",
    "\n",
    "sns.distplot(train['checkout_price'], kde = True, bins = 200, ax = ax1)\n",
    "sns.distplot(train['base_price'], kde = True, bins = 200, ax = ax2)\n",
    "\n",
    "plt.show()"
   ]
  },
  {
   "cell_type": "markdown",
   "metadata": {
    "colab_type": "text",
    "id": "dPJw_gffSAdJ"
   },
   "source": [
    "The two variables almost have almost the same distributions. Most of the values lie in the range of 200 to 400 in both plots. "
   ]
  },
  {
   "cell_type": "markdown",
   "metadata": {
    "colab_type": "text",
    "id": "PVGN1GqtSAdM"
   },
   "source": [
    "#### emailer_for_promotion and homepage_featured"
   ]
  },
  {
   "cell_type": "code",
   "execution_count": 84,
   "metadata": {
    "colab": {
     "base_uri": "https://localhost:8080/",
     "height": 69
    },
    "colab_type": "code",
    "id": "nX2BsSxPSAdO",
    "outputId": "e51f2859-6ee9-4988-b148-d4fdae8f1b12"
   },
   "outputs": [
    {
     "data": {
      "text/plain": [
       "0    0.918848\n",
       "1    0.081152\n",
       "Name: emailer_for_promotion, dtype: float64"
      ]
     },
     "execution_count": 84,
     "metadata": {},
     "output_type": "execute_result"
    }
   ],
   "source": [
    "train['emailer_for_promotion'].value_counts(normalize=True)"
   ]
  },
  {
   "cell_type": "code",
   "execution_count": 85,
   "metadata": {
    "colab": {
     "base_uri": "https://localhost:8080/",
     "height": 69
    },
    "colab_type": "code",
    "id": "CHbzVwuSSAdR",
    "outputId": "cde438c2-c665-4566-ab4b-80279792a563"
   },
   "outputs": [
    {
     "data": {
      "text/plain": [
       "0    0.8908\n",
       "1    0.1092\n",
       "Name: homepage_featured, dtype: float64"
      ]
     },
     "execution_count": 85,
     "metadata": {},
     "output_type": "execute_result"
    }
   ],
   "source": [
    "train['homepage_featured'].value_counts(normalize=True)"
   ]
  },
  {
   "cell_type": "markdown",
   "metadata": {
    "colab_type": "text",
    "id": "IjwOIrlCSAdW"
   },
   "source": [
    "#### Target variable - number of orders"
   ]
  },
  {
   "cell_type": "code",
   "execution_count": 112,
   "metadata": {
    "colab": {
     "base_uri": "https://localhost:8080/",
     "height": 297
    },
    "colab_type": "code",
    "id": "CJAsjMVUSAdX",
    "outputId": "828e3243-3031-4c6a-ad1f-ae028e498e15"
   },
   "outputs": [
    {
     "data": {
      "text/plain": [
       "<matplotlib.axes._subplots.AxesSubplot at 0x7fa049387490>"
      ]
     },
     "execution_count": 112,
     "metadata": {},
     "output_type": "execute_result"
    },
    {
     "data": {
      "image/png": "[encoded data removed]",
      "text/plain": [
       "<Figure size 432x288 with 1 Axes>"
      ]
     },
     "metadata": {
      "needs_background": "light"
     },
     "output_type": "display_data"
    }
   ],
   "source": [
    "sns.distplot(train['num_orders'])"
   ]
  },
  {
   "cell_type": "code",
   "execution_count": 113,
   "metadata": {
    "colab": {
     "base_uri": "https://localhost:8080/",
     "height": 34
    },
    "colab_type": "code",
    "id": "srIy8dFYSAdb",
    "outputId": "2a08e1e1-5699-4a83-986f-0ae9df7d3086"
   },
   "outputs": [
    {
     "data": {
      "text/plain": [
       "(3400, 9)"
      ]
     },
     "execution_count": 113,
     "metadata": {},
     "output_type": "execute_result"
    }
   ],
   "source": [
    "(train.loc[train['num_orders']>2000]).shape"
   ]
  },
  {
   "cell_type": "markdown",
   "metadata": {
    "colab_type": "text",
    "id": "2ht4r92pSAdg"
   },
   "source": [
    "The data is highly skewed. There are about 3400 datapoints () having 'num_orders' more than 2000. Let us apply a log transformation and look at the distribution."
   ]
  },
  {
   "cell_type": "code",
   "execution_count": 114,
   "metadata": {
    "colab": {
     "base_uri": "https://localhost:8080/",
     "height": 282
    },
    "colab_type": "code",
    "id": "hE2fopzOSAdh",
    "outputId": "b171ff1d-b90f-432e-92b2-a6b62b6c0591"
   },
   "outputs": [
    {
     "data": {
      "image/png": "[encoded data removed]",
      "text/plain": [
       "<Figure size 432x288 with 1 Axes>"
      ]
     },
     "metadata": {
      "needs_background": "light"
     },
     "output_type": "display_data"
    }
   ],
   "source": [
    "# log transformed UNITS column\n",
    "sns.distplot(np.log(train['num_orders'].values))\n",
    "plt.xlabel('Log of num_orders', fontsize=12)\n",
    "plt.show()"
   ]
  },
  {
   "cell_type": "markdown",
   "metadata": {
    "colab_type": "text",
    "id": "a3kxA2mJSAdl"
   },
   "source": [
    "After log transformation it looks close to a normal distribution."
   ]
  },
  {
   "cell_type": "markdown",
   "metadata": {
    "colab_type": "text",
    "id": "CE8W6qlhSAdm"
   },
   "source": [
    "### Fulfillment Center Data"
   ]
  },
  {
   "cell_type": "code",
   "execution_count": 115,
   "metadata": {
    "colab": {
     "base_uri": "https://localhost:8080/",
     "height": 206
    },
    "colab_type": "code",
    "id": "SxPByEq1SAdn",
    "outputId": "4483a0ed-6634-440c-aade-8d0c441e88a7"
   },
   "outputs": [
    {
     "data": {
      "text/html": [
       "<div>\n",
       "<style scoped>\n",
       "    .dataframe tbody tr th:only-of-type {\n",
       "        vertical-align: middle;\n",
       "    }\n",
       "\n",
       "    .dataframe tbody tr th {\n",
       "        vertical-align: top;\n",
       "    }\n",
       "\n",
       "    .dataframe thead th {\n",
       "        text-align: right;\n",
       "    }\n",
       "</style>\n",
       "<table border=\"1\" class=\"dataframe\">\n",
       "  <thead>\n",
       "    <tr style=\"text-align: right;\">\n",
       "      <th></th>\n",
       "      <th>center_id</th>\n",
       "      <th>city_code</th>\n",
       "      <th>region_code</th>\n",
       "      <th>center_type</th>\n",
       "      <th>op_area</th>\n",
       "    </tr>\n",
       "  </thead>\n",
       "  <tbody>\n",
       "    <tr>\n",
       "      <th>0</th>\n",
       "      <td>11</td>\n",
       "      <td>679</td>\n",
       "      <td>56</td>\n",
       "      <td>TYPE_A</td>\n",
       "      <td>3.7</td>\n",
       "    </tr>\n",
       "    <tr>\n",
       "      <th>1</th>\n",
       "      <td>13</td>\n",
       "      <td>590</td>\n",
       "      <td>56</td>\n",
       "      <td>TYPE_B</td>\n",
       "      <td>6.7</td>\n",
       "    </tr>\n",
       "    <tr>\n",
       "      <th>2</th>\n",
       "      <td>124</td>\n",
       "      <td>590</td>\n",
       "      <td>56</td>\n",
       "      <td>TYPE_C</td>\n",
       "      <td>4.0</td>\n",
       "    </tr>\n",
       "    <tr>\n",
       "      <th>3</th>\n",
       "      <td>66</td>\n",
       "      <td>648</td>\n",
       "      <td>34</td>\n",
       "      <td>TYPE_A</td>\n",
       "      <td>4.1</td>\n",
       "    </tr>\n",
       "    <tr>\n",
       "      <th>4</th>\n",
       "      <td>94</td>\n",
       "      <td>632</td>\n",
       "      <td>34</td>\n",
       "      <td>TYPE_C</td>\n",
       "      <td>3.6</td>\n",
       "    </tr>\n",
       "  </tbody>\n",
       "</table>\n",
       "</div>"
      ],
      "text/plain": [
       "   center_id  city_code  region_code center_type  op_area\n",
       "0         11        679           56      TYPE_A      3.7\n",
       "1         13        590           56      TYPE_B      6.7\n",
       "2        124        590           56      TYPE_C      4.0\n",
       "3         66        648           34      TYPE_A      4.1\n",
       "4         94        632           34      TYPE_C      3.6"
      ]
     },
     "execution_count": 115,
     "metadata": {},
     "output_type": "execute_result"
    }
   ],
   "source": [
    "centre_info.head()"
   ]
  },
  {
   "cell_type": "code",
   "execution_count": 116,
   "metadata": {
    "colab": {
     "base_uri": "https://localhost:8080/",
     "height": 121
    },
    "colab_type": "code",
    "id": "mzLo1hnJSAdv",
    "outputId": "a74ed072-9f85-4684-ec31-77230fb435e9"
   },
   "outputs": [
    {
     "data": {
      "text/plain": [
       "center_id        int64\n",
       "city_code        int64\n",
       "region_code      int64\n",
       "center_type     object\n",
       "op_area        float64\n",
       "dtype: object"
      ]
     },
     "execution_count": 116,
     "metadata": {},
     "output_type": "execute_result"
    }
   ],
   "source": [
    "centre_info.dtypes"
   ]
  },
  {
   "cell_type": "markdown",
   "metadata": {
    "colab_type": "text",
    "id": "OklN-UE7SAdy"
   },
   "source": [
    "#### center_id"
   ]
  },
  {
   "cell_type": "code",
   "execution_count": 117,
   "metadata": {
    "colab": {
     "base_uri": "https://localhost:8080/",
     "height": 34
    },
    "colab_type": "code",
    "id": "tRukw8-ZSAdz",
    "outputId": "c141281b-5259-4692-a368-cc9f9e7062fb"
   },
   "outputs": [
    {
     "data": {
      "text/plain": [
       "77"
      ]
     },
     "execution_count": 117,
     "metadata": {},
     "output_type": "execute_result"
    }
   ],
   "source": [
    "centre_info['center_id'].nunique()"
   ]
  },
  {
   "cell_type": "code",
   "execution_count": 118,
   "metadata": {
    "colab": {
     "base_uri": "https://localhost:8080/",
     "height": 34
    },
    "colab_type": "code",
    "id": "Ehl0AicwSAd3",
    "outputId": "bd608ae5-6f89-4fd8-d696-14b785db84e8"
   },
   "outputs": [
    {
     "data": {
      "text/plain": [
       "77"
      ]
     },
     "execution_count": 118,
     "metadata": {},
     "output_type": "execute_result"
    }
   ],
   "source": [
    "len(set(centre_info['center_id']).intersection(set(train['center_id'])))"
   ]
  },
  {
   "cell_type": "markdown",
   "metadata": {
    "colab_type": "text",
    "id": "y-URRSdySAd5"
   },
   "source": [
    "The number of unique center ID is same in both - weekly data and center information. And these 77 IDs are exactly the same for both the datasets  "
   ]
  },
  {
   "cell_type": "markdown",
   "metadata": {
    "colab_type": "text",
    "id": "wpgaAJMiSAd6"
   },
   "source": [
    "#### city_code and region_code"
   ]
  },
  {
   "cell_type": "code",
   "execution_count": 119,
   "metadata": {
    "colab": {
     "base_uri": "https://localhost:8080/",
     "height": 34
    },
    "colab_type": "code",
    "id": "kq0jNlJcSAd9",
    "outputId": "289abe6a-2e76-44bc-c97a-11c64ba99066",
    "scrolled": true
   },
   "outputs": [
    {
     "data": {
      "text/plain": [
       "51"
      ]
     },
     "execution_count": 119,
     "metadata": {},
     "output_type": "execute_result"
    }
   ],
   "source": [
    "centre_info['city_code'].nunique()"
   ]
  },
  {
   "cell_type": "code",
   "execution_count": 120,
   "metadata": {
    "colab": {
     "base_uri": "https://localhost:8080/",
     "height": 121
    },
    "colab_type": "code",
    "id": "K61R2S_RSAeA",
    "outputId": "06fc254e-6329-4dab-924d-e594c1099aee"
   },
   "outputs": [
    {
     "data": {
      "text/plain": [
       "590    9\n",
       "526    8\n",
       "638    3\n",
       "593    2\n",
       "517    2\n",
       "Name: city_code, dtype: int64"
      ]
     },
     "execution_count": 120,
     "metadata": {},
     "output_type": "execute_result"
    }
   ],
   "source": [
    "(centre_info['city_code'].value_counts()).head()"
   ]
  },
  {
   "cell_type": "code",
   "execution_count": 121,
   "metadata": {
    "colab": {
     "base_uri": "https://localhost:8080/",
     "height": 34
    },
    "colab_type": "code",
    "id": "oaZ24TgxSAeE",
    "outputId": "0fc8af16-7a6e-4605-9418-4aba7f90efe5"
   },
   "outputs": [
    {
     "data": {
      "text/plain": [
       "8"
      ]
     },
     "execution_count": 121,
     "metadata": {},
     "output_type": "execute_result"
    }
   ],
   "source": [
    "centre_info['region_code'].nunique()"
   ]
  },
  {
   "cell_type": "markdown",
   "metadata": {
    "colab_type": "text",
    "id": "Eh7I-W84SAeH"
   },
   "source": [
    "The Fulfillment centers are spread over 51 cities and 8 regions. City codes 590 and 526 have 9 and 8 centers respectively. Other cities have 3 or less. "
   ]
  },
  {
   "cell_type": "markdown",
   "metadata": {
    "colab_type": "text",
    "id": "ZOTOSFuNSAeI"
   },
   "source": [
    "#### center_type and op_area"
   ]
  },
  {
   "cell_type": "code",
   "execution_count": 122,
   "metadata": {
    "colab": {
     "base_uri": "https://localhost:8080/",
     "height": 86
    },
    "colab_type": "code",
    "id": "FWAeBHADSAeK",
    "outputId": "54f17fa2-c7fa-423a-e495-991094e4961d"
   },
   "outputs": [
    {
     "data": {
      "text/plain": [
       "TYPE_A    43\n",
       "TYPE_C    19\n",
       "TYPE_B    15\n",
       "Name: center_type, dtype: int64"
      ]
     },
     "execution_count": 122,
     "metadata": {},
     "output_type": "execute_result"
    }
   ],
   "source": [
    "centre_info['center_type'].value_counts()"
   ]
  },
  {
   "cell_type": "code",
   "execution_count": 123,
   "metadata": {
    "colab": {
     "base_uri": "https://localhost:8080/",
     "height": 282
    },
    "colab_type": "code",
    "id": "SjD-4CjESAeP",
    "outputId": "6729cbc6-c30c-4296-c4ad-ff0a9afe4c03"
   },
   "outputs": [
    {
     "data": {
      "image/png": "[encoded data removed]",
      "text/plain": [
       "<Figure size 432x288 with 1 Axes>"
      ]
     },
     "metadata": {
      "needs_background": "light"
     },
     "output_type": "display_data"
    }
   ],
   "source": [
    "sns.distplot(centre_info['op_area'])\n",
    "plt.xlabel('Area in km^2', fontsize=12)\n",
    "plt.show()"
   ]
  },
  {
   "cell_type": "markdown",
   "metadata": {
    "colab_type": "text",
    "id": "TqT11flZSAeT"
   },
   "source": [
    "### Meal Info Data"
   ]
  },
  {
   "cell_type": "code",
   "execution_count": 98,
   "metadata": {
    "colab": {
     "base_uri": "https://localhost:8080/",
     "height": 206
    },
    "colab_type": "code",
    "id": "vniAMEyOSAeU",
    "outputId": "19000913-a1e7-4892-bc3d-23ad6311ee31"
   },
   "outputs": [
    {
     "data": {
      "text/html": [
       "<div>\n",
       "<style scoped>\n",
       "    .dataframe tbody tr th:only-of-type {\n",
       "        vertical-align: middle;\n",
       "    }\n",
       "\n",
       "    .dataframe tbody tr th {\n",
       "        vertical-align: top;\n",
       "    }\n",
       "\n",
       "    .dataframe thead th {\n",
       "        text-align: right;\n",
       "    }\n",
       "</style>\n",
       "<table border=\"1\" class=\"dataframe\">\n",
       "  <thead>\n",
       "    <tr style=\"text-align: right;\">\n",
       "      <th></th>\n",
       "      <th>meal_id</th>\n",
       "      <th>category</th>\n",
       "      <th>cuisine</th>\n",
       "    </tr>\n",
       "  </thead>\n",
       "  <tbody>\n",
       "    <tr>\n",
       "      <th>0</th>\n",
       "      <td>1885</td>\n",
       "      <td>Beverages</td>\n",
       "      <td>Thai</td>\n",
       "    </tr>\n",
       "    <tr>\n",
       "      <th>1</th>\n",
       "      <td>1993</td>\n",
       "      <td>Beverages</td>\n",
       "      <td>Thai</td>\n",
       "    </tr>\n",
       "    <tr>\n",
       "      <th>2</th>\n",
       "      <td>2539</td>\n",
       "      <td>Beverages</td>\n",
       "      <td>Thai</td>\n",
       "    </tr>\n",
       "    <tr>\n",
       "      <th>3</th>\n",
       "      <td>1248</td>\n",
       "      <td>Beverages</td>\n",
       "      <td>Indian</td>\n",
       "    </tr>\n",
       "    <tr>\n",
       "      <th>4</th>\n",
       "      <td>2631</td>\n",
       "      <td>Beverages</td>\n",
       "      <td>Indian</td>\n",
       "    </tr>\n",
       "  </tbody>\n",
       "</table>\n",
       "</div>"
      ],
      "text/plain": [
       "   meal_id   category cuisine\n",
       "0     1885  Beverages    Thai\n",
       "1     1993  Beverages    Thai\n",
       "2     2539  Beverages    Thai\n",
       "3     1248  Beverages  Indian\n",
       "4     2631  Beverages  Indian"
      ]
     },
     "execution_count": 98,
     "metadata": {},
     "output_type": "execute_result"
    }
   ],
   "source": [
    "meal_info.head()"
   ]
  },
  {
   "cell_type": "code",
   "execution_count": 99,
   "metadata": {
    "colab": {
     "base_uri": "https://localhost:8080/",
     "height": 86
    },
    "colab_type": "code",
    "id": "eSFUKEmZSAeY",
    "outputId": "f17f2df2-a723-4468-f655-1d1cc4840d1a"
   },
   "outputs": [
    {
     "data": {
      "text/plain": [
       "meal_id      int64\n",
       "category    object\n",
       "cuisine     object\n",
       "dtype: object"
      ]
     },
     "execution_count": 99,
     "metadata": {},
     "output_type": "execute_result"
    }
   ],
   "source": [
    "meal_info.dtypes"
   ]
  },
  {
   "cell_type": "markdown",
   "metadata": {
    "colab_type": "text",
    "id": "Y9fFHHU1SAed"
   },
   "source": [
    "#### meal_info"
   ]
  },
  {
   "cell_type": "code",
   "execution_count": 106,
   "metadata": {
    "colab": {
     "base_uri": "https://localhost:8080/",
     "height": 34
    },
    "colab_type": "code",
    "id": "LWwV8mQ7SAef",
    "outputId": "e97c4bd2-64c2-456d-84b7-cb15bb84bd52"
   },
   "outputs": [
    {
     "data": {
      "text/plain": [
       "51"
      ]
     },
     "execution_count": 106,
     "metadata": {},
     "output_type": "execute_result"
    }
   ],
   "source": [
    "meal_info['meal_id'].nunique()"
   ]
  },
  {
   "cell_type": "code",
   "execution_count": 107,
   "metadata": {
    "colab": {
     "base_uri": "https://localhost:8080/",
     "height": 34
    },
    "colab_type": "code",
    "id": "uSmJDdFjSAej",
    "outputId": "f609d28a-7af5-4c38-d922-852350109d19"
   },
   "outputs": [
    {
     "data": {
      "text/plain": [
       "51"
      ]
     },
     "execution_count": 107,
     "metadata": {},
     "output_type": "execute_result"
    }
   ],
   "source": [
    "len(set(meal_info['meal_id']).intersection(set(train['meal_id'])))"
   ]
  },
  {
   "cell_type": "code",
   "execution_count": 108,
   "metadata": {
    "colab": {
     "base_uri": "https://localhost:8080/",
     "height": 34
    },
    "colab_type": "code",
    "id": "fBO2fQb2SAey",
    "outputId": "7ddf1ce1-f627-45e4-8722-e37f62d1fb40"
   },
   "outputs": [
    {
     "data": {
      "text/plain": [
       "14"
      ]
     },
     "execution_count": 108,
     "metadata": {},
     "output_type": "execute_result"
    }
   ],
   "source": [
    "meal_info['category'].nunique()"
   ]
  },
  {
   "cell_type": "code",
   "execution_count": 109,
   "metadata": {
    "colab": {
     "base_uri": "https://localhost:8080/",
     "height": 278
    },
    "colab_type": "code",
    "id": "hT0yjXgfSAe3",
    "outputId": "4358cdc4-f3ac-4ed1-aa5c-fc49edf970b3"
   },
   "outputs": [
    {
     "data": {
      "text/plain": [
       "Beverages       12\n",
       "Desert           3\n",
       "Salad            3\n",
       "Pizza            3\n",
       "Biryani          3\n",
       "Soup             3\n",
       "Starters         3\n",
       "Rice Bowl        3\n",
       "Sandwich         3\n",
       "Pasta            3\n",
       "Fish             3\n",
       "Extras           3\n",
       "Seafood          3\n",
       "Other Snacks     3\n",
       "Name: category, dtype: int64"
      ]
     },
     "execution_count": 109,
     "metadata": {},
     "output_type": "execute_result"
    }
   ],
   "source": [
    "meal_info['category'].value_counts()"
   ]
  },
  {
   "cell_type": "code",
   "execution_count": 110,
   "metadata": {
    "colab": {
     "base_uri": "https://localhost:8080/",
     "height": 34
    },
    "colab_type": "code",
    "id": "qVzNccc2SAe9",
    "outputId": "7e2d2420-79b7-4169-ee25-95ccfcf36ba3"
   },
   "outputs": [
    {
     "data": {
      "text/plain": [
       "4"
      ]
     },
     "execution_count": 110,
     "metadata": {},
     "output_type": "execute_result"
    }
   ],
   "source": [
    "meal_info['cuisine'].nunique()"
   ]
  },
  {
   "cell_type": "code",
   "execution_count": 124,
   "metadata": {
    "colab": {
     "base_uri": "https://localhost:8080/",
     "height": 104
    },
    "colab_type": "code",
    "id": "dfvkL_yESAfB",
    "outputId": "f9ce4bd2-4682-4a8a-e22b-4580760b11cf"
   },
   "outputs": [
    {
     "data": {
      "text/plain": [
       "Thai           15\n",
       "Continental    12\n",
       "Indian         12\n",
       "Italian        12\n",
       "Name: cuisine, dtype: int64"
      ]
     },
     "execution_count": 124,
     "metadata": {},
     "output_type": "execute_result"
    }
   ],
   "source": [
    "meal_info['cuisine'].value_counts()"
   ]
  },
  {
   "cell_type": "markdown",
   "metadata": {
    "colab_type": "text",
    "id": "jX2sJfqpSAfE"
   },
   "source": [
    "The data consists of four variety of cuisines, which are further divided into sub-categories like beverage, starters etc. There are a total of 12 such categories."
   ]
  },
  {
   "cell_type": "markdown",
   "metadata": {
    "colab_type": "text",
    "id": "RV0x683ISAfF"
   },
   "source": [
    "## Merging the datasets"
   ]
  },
  {
   "cell_type": "code",
   "execution_count": 127,
   "metadata": {
    "colab": {},
    "colab_type": "code",
    "id": "MCgYvvVRSAfF"
   },
   "outputs": [],
   "source": [
    "train_meal_data = train.merge(meal_info, how = 'left', on='meal_id')\n",
    "train_data = train_meal_data.merge(centre_info, how = 'left', on = 'center_id')"
   ]
  },
  {
   "cell_type": "code",
   "execution_count": 128,
   "metadata": {
    "colab": {
     "base_uri": "https://localhost:8080/",
     "height": 34
    },
    "colab_type": "code",
    "id": "0AyR5Rz2SAfK",
    "outputId": "dc73199b-d9cc-4d91-fe95-6893409f5484"
   },
   "outputs": [
    {
     "data": {
      "text/plain": [
       "((456548, 9), (51, 3), (77, 5), (456548, 15))"
      ]
     },
     "execution_count": 128,
     "metadata": {},
     "output_type": "execute_result"
    }
   ],
   "source": [
    "train.shape, meal_info.shape, centre_info.shape, train_data.shape"
   ]
  },
  {
   "cell_type": "code",
   "execution_count": 129,
   "metadata": {
    "colab": {},
    "colab_type": "code",
    "id": "Tx1Qn2TWSAfO"
   },
   "outputs": [],
   "source": [
    "test_meal_data = test.merge(meal_info, how = 'left', on='meal_id')\n",
    "test_data = test_meal_data.merge(centre_info, how = 'left', on = 'center_id')"
   ]
  },
  {
   "cell_type": "code",
   "execution_count": 130,
   "metadata": {
    "colab": {
     "base_uri": "https://localhost:8080/",
     "height": 34
    },
    "colab_type": "code",
    "id": "73vO6fBXSAfR",
    "outputId": "a4c85e27-bb4d-4764-87e9-aaf7ce028400"
   },
   "outputs": [
    {
     "data": {
      "text/plain": [
       "((32573, 8), (51, 3), (77, 5), (32573, 14))"
      ]
     },
     "execution_count": 130,
     "metadata": {},
     "output_type": "execute_result"
    }
   ],
   "source": [
    "test.shape, meal_info.shape, centre_info.shape, test_data.shape"
   ]
  },
  {
   "cell_type": "markdown",
   "metadata": {
    "colab_type": "text",
    "id": "zxbUErnFSAfW"
   },
   "source": [
    "#### Base price and number of orders"
   ]
  },
  {
   "cell_type": "code",
   "execution_count": 131,
   "metadata": {
    "colab": {
     "base_uri": "https://localhost:8080/",
     "height": 391
    },
    "colab_type": "code",
    "id": "fptlNl1rSAfX",
    "outputId": "33cbe47e-0571-48cd-9cec-b0154ee3f752"
   },
   "outputs": [
    {
     "data": {
      "image/png": "[encoded data removed]",
      "text/plain": [
       "<Figure size 576x432 with 1 Axes>"
      ]
     },
     "metadata": {
      "needs_background": "light"
     },
     "output_type": "display_data"
    }
   ],
   "source": [
    "# scatter plot for base price and sales\n",
    "plt.figure(figsize=(8,6))\n",
    "plt.scatter(x = (train_data['base_price']), y = (train_data['num_orders']))\n",
    "plt.xlabel('Price', fontsize=12)\n",
    "plt.ylabel('Number of Orders', fontsize=12)\n",
    "plt.show()"
   ]
  },
  {
   "cell_type": "markdown",
   "metadata": {
    "colab_type": "text",
    "id": "F6ZnCtCfSAfd"
   },
   "source": [
    "Sales are higher for products with lower price. Does the category of meal have any significant impact on the sales? Let us look at the average orders for different categories."
   ]
  },
  {
   "cell_type": "markdown",
   "metadata": {
    "colab_type": "text",
    "id": "J_7dcgeWSAfe"
   },
   "source": [
    "#### Category and number of orders"
   ]
  },
  {
   "cell_type": "code",
   "execution_count": 130,
   "metadata": {
    "colab": {
     "base_uri": "https://localhost:8080/",
     "height": 295
    },
    "colab_type": "code",
    "id": "4fbjDfSzSAfg",
    "outputId": "45dcea56-9285-4bc2-f35e-8c96a21c6548"
   },
   "outputs": [
    {
     "data": {
      "text/plain": [
       "category\n",
       "Beverages       316.526116\n",
       "Biryani          30.651402\n",
       "Desert           66.250905\n",
       "Extras          293.834169\n",
       "Fish             85.595268\n",
       "Other Snacks    162.234691\n",
       "Pasta            59.137142\n",
       "Pizza           222.817309\n",
       "Rice Bowl       624.822288\n",
       "Salad           383.218460\n",
       "Sandwich        529.776276\n",
       "Seafood         100.895898\n",
       "Soup             82.023353\n",
       "Starters        155.276110\n",
       "Name: num_orders, dtype: float64"
      ]
     },
     "execution_count": 130,
     "metadata": {
      "tags": []
     },
     "output_type": "execute_result"
    }
   ],
   "source": [
    "(train_data.groupby(['category'])['num_orders'].mean())"
   ]
  },
  {
   "cell_type": "code",
   "execution_count": 131,
   "metadata": {
    "colab": {
     "base_uri": "https://localhost:8080/",
     "height": 295
    },
    "colab_type": "code",
    "id": "Av8cuU1rSAfl",
    "outputId": "3f751414-6547-4913-f522-9714a97d1ab6"
   },
   "outputs": [
    {
     "data": {
      "text/plain": [
       "category\n",
       "Biryani          30.651402\n",
       "Pasta            59.137142\n",
       "Desert           66.250905\n",
       "Soup             82.023353\n",
       "Fish             85.595268\n",
       "Seafood         100.895898\n",
       "Starters        155.276110\n",
       "Other Snacks    162.234691\n",
       "Pizza           222.817309\n",
       "Extras          293.834169\n",
       "Beverages       316.526116\n",
       "Salad           383.218460\n",
       "Sandwich        529.776276\n",
       "Rice Bowl       624.822288\n",
       "Name: num_orders, dtype: float64"
      ]
     },
     "execution_count": 131,
     "metadata": {
      "tags": []
     },
     "output_type": "execute_result"
    }
   ],
   "source": [
    "(train_data.groupby(['category'])['num_orders'].mean()).sort_values()"
   ]
  },
  {
   "cell_type": "markdown",
   "metadata": {
    "colab_type": "text",
    "id": "ZMU59A0OSAft"
   },
   "source": [
    "Rice bowl and Sandwiches have a significantly higher demand (orders) while the biryani and desert have comparatively lower number of orders."
   ]
  },
  {
   "cell_type": "markdown",
   "metadata": {
    "colab_type": "text",
    "id": "pO1EYYZVSAfy"
   },
   "source": [
    "#### Center type and Area"
   ]
  },
  {
   "cell_type": "code",
   "execution_count": 132,
   "metadata": {
    "colab": {
     "base_uri": "https://localhost:8080/",
     "height": 104
    },
    "colab_type": "code",
    "id": "SM74sL46SAfz",
    "outputId": "a62db336-698d-45d6-9b0a-6217469b78ff"
   },
   "outputs": [
    {
     "data": {
      "text/plain": [
       "center_type\n",
       "TYPE_C    206.670097\n",
       "TYPE_A    262.394456\n",
       "TYPE_B    318.856145\n",
       "Name: num_orders, dtype: float64"
      ]
     },
     "execution_count": 132,
     "metadata": {},
     "output_type": "execute_result"
    }
   ],
   "source": [
    "(train_data.groupby(['center_type'])['num_orders'].mean()).sort_values()"
   ]
  },
  {
   "cell_type": "markdown",
   "metadata": {
    "colab_type": "text",
    "id": "6w12JdtWSAgD"
   },
   "source": [
    "Fulfillment centers with Type A always have a higher number of orders. Is there a difference in the size of the centers of type a, b and c? Lets check"
   ]
  },
  {
   "cell_type": "code",
   "execution_count": 133,
   "metadata": {
    "colab": {
     "base_uri": "https://localhost:8080/",
     "height": 225
    },
    "colab_type": "code",
    "id": "Tj5oB5EpSAgF",
    "outputId": "24e792e1-23cf-4b75-ea8a-005acb2dbc23"
   },
   "outputs": [
    {
     "data": {
      "text/plain": [
       "0         2.0\n",
       "1         2.0\n",
       "2         2.0\n",
       "3         2.0\n",
       "4         2.0\n",
       "         ... \n",
       "456543    4.5\n",
       "456544    4.5\n",
       "456545    4.5\n",
       "456546    4.5\n",
       "456547    4.5\n",
       "Name: op_area, Length: 456548, dtype: float64"
      ]
     },
     "execution_count": 133,
     "metadata": {},
     "output_type": "execute_result"
    }
   ],
   "source": [
    "train_data['op_area']"
   ]
  },
  {
   "cell_type": "code",
   "execution_count": 134,
   "metadata": {
    "colab": {
     "base_uri": "https://localhost:8080/",
     "height": 296
    },
    "colab_type": "code",
    "id": "S2IG0BFxSAgJ",
    "outputId": "278c969f-60bd-493f-c643-d567f7ec0516"
   },
   "outputs": [
    {
     "data": {
      "text/plain": [
       "<matplotlib.axes._subplots.AxesSubplot at 0x7fa04ba3ac90>"
      ]
     },
     "execution_count": 134,
     "metadata": {},
     "output_type": "execute_result"
    },
    {
     "data": {
      "image/png": "[encoded data removed]",
      "text/plain": [
       "<Figure size 432x288 with 1 Axes>"
      ]
     },
     "metadata": {
      "needs_background": "light"
     },
     "output_type": "display_data"
    }
   ],
   "source": [
    "type_a = train_data.loc[train_data['center_type'] == 'TYPE_A']\n",
    "type_b = train_data.loc[train_data['center_type'] == 'TYPE_B']\n",
    "type_c = train_data.loc[train_data['center_type'] == 'TYPE_C']\n",
    "\n",
    "\n",
    "sns.distplot(type_a['op_area'], hist = False,color= 'dodgerblue', label= 'TYPE_A')\n",
    "sns.distplot(type_b['op_area'], hist = False,  color= 'orange', label= 'TYPE_B')\n",
    "sns.distplot(type_c['op_area'], hist = False,  color= 'blue', label= 'TYPE_C')\n"
   ]
  },
  {
   "cell_type": "markdown",
   "metadata": {
    "colab_type": "text",
    "id": "2x4FjcynSAgX"
   },
   "source": [
    "# Preprocessing"
   ]
  },
  {
   "cell_type": "code",
   "execution_count": 135,
   "metadata": {
    "colab": {
     "base_uri": "https://localhost:8080/",
     "height": 295
    },
    "colab_type": "code",
    "id": "uCK2_N3WSAgY",
    "outputId": "618f25eb-8402-447d-ef76-fd48c956af4b"
   },
   "outputs": [
    {
     "data": {
      "text/plain": [
       "id                       0\n",
       "week                     0\n",
       "center_id                0\n",
       "meal_id                  0\n",
       "checkout_price           0\n",
       "base_price               0\n",
       "emailer_for_promotion    0\n",
       "homepage_featured        0\n",
       "num_orders               0\n",
       "category                 0\n",
       "cuisine                  0\n",
       "city_code                0\n",
       "region_code              0\n",
       "center_type              0\n",
       "op_area                  0\n",
       "dtype: int64"
      ]
     },
     "execution_count": 135,
     "metadata": {},
     "output_type": "execute_result"
    }
   ],
   "source": [
    "# Checking presence of missing values in the data\n",
    "train_data.isnull().sum()"
   ]
  },
  {
   "cell_type": "code",
   "execution_count": 136,
   "metadata": {
    "colab": {},
    "colab_type": "code",
    "id": "hmzOBAZYSAgd"
   },
   "outputs": [
    {
     "data": {
      "text/plain": [
       "id                       0\n",
       "week                     0\n",
       "center_id                0\n",
       "meal_id                  0\n",
       "checkout_price           0\n",
       "base_price               0\n",
       "emailer_for_promotion    0\n",
       "homepage_featured        0\n",
       "category                 0\n",
       "cuisine                  0\n",
       "city_code                0\n",
       "region_code              0\n",
       "center_type              0\n",
       "op_area                  0\n",
       "dtype: int64"
      ]
     },
     "execution_count": 136,
     "metadata": {},
     "output_type": "execute_result"
    }
   ],
   "source": [
    "test_data.isnull().sum()"
   ]
  },
  {
   "cell_type": "code",
   "execution_count": 137,
   "metadata": {
    "colab": {
     "base_uri": "https://localhost:8080/",
     "height": 34
    },
    "colab_type": "code",
    "id": "jK_I4FkpSAgi",
    "outputId": "b3156ea8-01c9-4ac2-a715-93078589ca69"
   },
   "outputs": [
    {
     "data": {
      "text/plain": [
       "(456548, 33)"
      ]
     },
     "execution_count": 137,
     "metadata": {},
     "output_type": "execute_result"
    }
   ],
   "source": [
    "# Handling categorical variables\n",
    "train_data = pd.get_dummies(train_data)\n",
    "train_data.shape"
   ]
  },
  {
   "cell_type": "code",
   "execution_count": 138,
   "metadata": {
    "colab": {
     "base_uri": "https://localhost:8080/",
     "height": 34
    },
    "colab_type": "code",
    "id": "990QxNGqSAgk",
    "outputId": "f7d416a2-4532-4389-b266-1f838eac7afc"
   },
   "outputs": [
    {
     "data": {
      "text/plain": [
       "(32573, 32)"
      ]
     },
     "execution_count": 138,
     "metadata": {},
     "output_type": "execute_result"
    }
   ],
   "source": [
    "test_data = pd.get_dummies(test_data)\n",
    "test_data.shape"
   ]
  },
  {
   "cell_type": "markdown",
   "metadata": {
    "colab_type": "text",
    "id": "42OjjkpGSAgn"
   },
   "source": [
    "## Creating Train and Validation Sets"
   ]
  },
  {
   "cell_type": "markdown",
   "metadata": {},
   "source": [
    "Train set: Week 1 to Week 134\n",
    "\n",
    "Validation: Week 135 to 145"
   ]
  },
  {
   "cell_type": "code",
   "execution_count": 139,
   "metadata": {
    "colab": {
     "base_uri": "https://localhost:8080/",
     "height": 244
    },
    "colab_type": "code",
    "id": "62RdFk-CSAgo",
    "outputId": "46852101-bb6a-4f8a-ee38-1377505b5eb4"
   },
   "outputs": [
    {
     "data": {
      "text/html": [
       "<div>\n",
       "<style scoped>\n",
       "    .dataframe tbody tr th:only-of-type {\n",
       "        vertical-align: middle;\n",
       "    }\n",
       "\n",
       "    .dataframe tbody tr th {\n",
       "        vertical-align: top;\n",
       "    }\n",
       "\n",
       "    .dataframe thead th {\n",
       "        text-align: right;\n",
       "    }\n",
       "</style>\n",
       "<table border=\"1\" class=\"dataframe\">\n",
       "  <thead>\n",
       "    <tr style=\"text-align: right;\">\n",
       "      <th></th>\n",
       "      <th>id</th>\n",
       "      <th>week</th>\n",
       "      <th>center_id</th>\n",
       "      <th>meal_id</th>\n",
       "      <th>checkout_price</th>\n",
       "      <th>base_price</th>\n",
       "      <th>emailer_for_promotion</th>\n",
       "      <th>homepage_featured</th>\n",
       "      <th>num_orders</th>\n",
       "      <th>city_code</th>\n",
       "      <th>...</th>\n",
       "      <th>category_Seafood</th>\n",
       "      <th>category_Soup</th>\n",
       "      <th>category_Starters</th>\n",
       "      <th>cuisine_Continental</th>\n",
       "      <th>cuisine_Indian</th>\n",
       "      <th>cuisine_Italian</th>\n",
       "      <th>cuisine_Thai</th>\n",
       "      <th>center_type_TYPE_A</th>\n",
       "      <th>center_type_TYPE_B</th>\n",
       "      <th>center_type_TYPE_C</th>\n",
       "    </tr>\n",
       "  </thead>\n",
       "  <tbody>\n",
       "    <tr>\n",
       "      <th>420466</th>\n",
       "      <td>1455692</td>\n",
       "      <td>135</td>\n",
       "      <td>55</td>\n",
       "      <td>1885</td>\n",
       "      <td>150.41</td>\n",
       "      <td>149.41</td>\n",
       "      <td>0</td>\n",
       "      <td>0</td>\n",
       "      <td>216</td>\n",
       "      <td>647</td>\n",
       "      <td>...</td>\n",
       "      <td>0</td>\n",
       "      <td>0</td>\n",
       "      <td>0</td>\n",
       "      <td>0</td>\n",
       "      <td>0</td>\n",
       "      <td>0</td>\n",
       "      <td>1</td>\n",
       "      <td>0</td>\n",
       "      <td>0</td>\n",
       "      <td>1</td>\n",
       "    </tr>\n",
       "    <tr>\n",
       "      <th>420467</th>\n",
       "      <td>1136764</td>\n",
       "      <td>135</td>\n",
       "      <td>55</td>\n",
       "      <td>1993</td>\n",
       "      <td>150.35</td>\n",
       "      <td>150.35</td>\n",
       "      <td>0</td>\n",
       "      <td>0</td>\n",
       "      <td>134</td>\n",
       "      <td>647</td>\n",
       "      <td>...</td>\n",
       "      <td>0</td>\n",
       "      <td>0</td>\n",
       "      <td>0</td>\n",
       "      <td>0</td>\n",
       "      <td>0</td>\n",
       "      <td>0</td>\n",
       "      <td>1</td>\n",
       "      <td>0</td>\n",
       "      <td>0</td>\n",
       "      <td>1</td>\n",
       "    </tr>\n",
       "    <tr>\n",
       "      <th>420468</th>\n",
       "      <td>1492008</td>\n",
       "      <td>135</td>\n",
       "      <td>55</td>\n",
       "      <td>2539</td>\n",
       "      <td>150.35</td>\n",
       "      <td>151.35</td>\n",
       "      <td>0</td>\n",
       "      <td>0</td>\n",
       "      <td>96</td>\n",
       "      <td>647</td>\n",
       "      <td>...</td>\n",
       "      <td>0</td>\n",
       "      <td>0</td>\n",
       "      <td>0</td>\n",
       "      <td>0</td>\n",
       "      <td>0</td>\n",
       "      <td>0</td>\n",
       "      <td>1</td>\n",
       "      <td>0</td>\n",
       "      <td>0</td>\n",
       "      <td>1</td>\n",
       "    </tr>\n",
       "    <tr>\n",
       "      <th>420469</th>\n",
       "      <td>1496190</td>\n",
       "      <td>135</td>\n",
       "      <td>55</td>\n",
       "      <td>2631</td>\n",
       "      <td>97.06</td>\n",
       "      <td>163.93</td>\n",
       "      <td>0</td>\n",
       "      <td>0</td>\n",
       "      <td>134</td>\n",
       "      <td>647</td>\n",
       "      <td>...</td>\n",
       "      <td>0</td>\n",
       "      <td>0</td>\n",
       "      <td>0</td>\n",
       "      <td>0</td>\n",
       "      <td>1</td>\n",
       "      <td>0</td>\n",
       "      <td>0</td>\n",
       "      <td>0</td>\n",
       "      <td>0</td>\n",
       "      <td>1</td>\n",
       "    </tr>\n",
       "    <tr>\n",
       "      <th>420470</th>\n",
       "      <td>1389813</td>\n",
       "      <td>135</td>\n",
       "      <td>55</td>\n",
       "      <td>1248</td>\n",
       "      <td>93.15</td>\n",
       "      <td>164.93</td>\n",
       "      <td>0</td>\n",
       "      <td>0</td>\n",
       "      <td>26</td>\n",
       "      <td>647</td>\n",
       "      <td>...</td>\n",
       "      <td>0</td>\n",
       "      <td>0</td>\n",
       "      <td>0</td>\n",
       "      <td>0</td>\n",
       "      <td>1</td>\n",
       "      <td>0</td>\n",
       "      <td>0</td>\n",
       "      <td>0</td>\n",
       "      <td>0</td>\n",
       "      <td>1</td>\n",
       "    </tr>\n",
       "  </tbody>\n",
       "</table>\n",
       "<p>5 rows × 33 columns</p>\n",
       "</div>"
      ],
      "text/plain": [
       "             id  week  center_id  meal_id  checkout_price  base_price  \\\n",
       "420466  1455692   135         55     1885          150.41      149.41   \n",
       "420467  1136764   135         55     1993          150.35      150.35   \n",
       "420468  1492008   135         55     2539          150.35      151.35   \n",
       "420469  1496190   135         55     2631           97.06      163.93   \n",
       "420470  1389813   135         55     1248           93.15      164.93   \n",
       "\n",
       "        emailer_for_promotion  homepage_featured  num_orders  city_code  ...  \\\n",
       "420466                      0                  0         216        647  ...   \n",
       "420467                      0                  0         134        647  ...   \n",
       "420468                      0                  0          96        647  ...   \n",
       "420469                      0                  0         134        647  ...   \n",
       "420470                      0                  0          26        647  ...   \n",
       "\n",
       "        category_Seafood  category_Soup  category_Starters  \\\n",
       "420466                 0              0                  0   \n",
       "420467                 0              0                  0   \n",
       "420468                 0              0                  0   \n",
       "420469                 0              0                  0   \n",
       "420470                 0              0                  0   \n",
       "\n",
       "        cuisine_Continental  cuisine_Indian  cuisine_Italian  cuisine_Thai  \\\n",
       "420466                    0               0                0             1   \n",
       "420467                    0               0                0             1   \n",
       "420468                    0               0                0             1   \n",
       "420469                    0               1                0             0   \n",
       "420470                    0               1                0             0   \n",
       "\n",
       "        center_type_TYPE_A  center_type_TYPE_B  center_type_TYPE_C  \n",
       "420466                   0                   0                   1  \n",
       "420467                   0                   0                   1  \n",
       "420468                   0                   0                   1  \n",
       "420469                   0                   0                   1  \n",
       "420470                   0                   0                   1  \n",
       "\n",
       "[5 rows x 33 columns]"
      ]
     },
     "execution_count": 139,
     "metadata": {},
     "output_type": "execute_result"
    }
   ],
   "source": [
    "(train_data.loc[train_data['week']==135]).head()"
   ]
  },
  {
   "cell_type": "code",
   "execution_count": 140,
   "metadata": {
    "colab": {},
    "colab_type": "code",
    "id": "Fm7bQnAdSAgq"
   },
   "outputs": [],
   "source": [
    "train_ = train_data[0:420466]\n",
    "valid_ = train_data[420466:]"
   ]
  },
  {
   "cell_type": "code",
   "execution_count": 141,
   "metadata": {
    "colab": {},
    "colab_type": "code",
    "id": "7Yb4BSzbSAgt"
   },
   "outputs": [],
   "source": [
    "train_x = train_.drop('num_orders', axis=1)\n",
    "train_y = train_['num_orders']\n",
    "valid_x = valid_.drop('num_orders', axis=1)\n",
    "valid_y = valid_['num_orders']"
   ]
  },
  {
   "cell_type": "code",
   "execution_count": 142,
   "metadata": {
    "colab": {
     "base_uri": "https://localhost:8080/",
     "height": 34
    },
    "colab_type": "code",
    "id": "bHQ3VZkoSAgv",
    "outputId": "61535d0e-9ab2-485c-d7d1-7f0acc476ac5"
   },
   "outputs": [
    {
     "data": {
      "text/plain": [
       "((420466, 32), (420466,), (36082, 32), (36082,))"
      ]
     },
     "execution_count": 142,
     "metadata": {},
     "output_type": "execute_result"
    }
   ],
   "source": [
    "train_x.shape, train_y.shape, valid_x.shape, valid_y.shape"
   ]
  },
  {
   "cell_type": "markdown",
   "metadata": {
    "colab_type": "text",
    "id": "BwYf5JJoSAgx"
   },
   "source": [
    "# Evaluation Metric"
   ]
  },
  {
   "cell_type": "code",
   "execution_count": 143,
   "metadata": {
    "colab": {},
    "colab_type": "code",
    "id": "1lEs5sveSAgy"
   },
   "outputs": [],
   "source": [
    "# function to calculate the root mean squared log error\n",
    "from sklearn.metrics import mean_squared_log_error as msle\n",
    "def get_rmsle(true, predicted) :\n",
    "    \n",
    "    return 100*np.sqrt(msle(true, predicted))"
   ]
  },
  {
   "cell_type": "markdown",
   "metadata": {
    "colab_type": "text",
    "id": "SPEGKCDLSAg1"
   },
   "source": [
    "# Baseline Model"
   ]
  },
  {
   "cell_type": "code",
   "execution_count": 145,
   "metadata": {
    "colab": {},
    "colab_type": "code",
    "id": "n3KKNZFKUo45"
   },
   "outputs": [],
   "source": [
    "from sklearn.linear_model import LinearRegression\n",
    "from sklearn.tree import DecisionTreeRegressor\n",
    "from sklearn.ensemble import RandomForestRegressor\n",
    "from sklearn.model_selection import RandomizedSearchCV\n",
    "import xgboost as xgb"
   ]
  },
  {
   "cell_type": "code",
   "execution_count": 146,
   "metadata": {
    "colab": {},
    "colab_type": "code",
    "id": "Ipb1gsx9Uo12"
   },
   "outputs": [],
   "source": [
    "model_lr = LinearRegression(normalize=True)"
   ]
  },
  {
   "cell_type": "code",
   "execution_count": 147,
   "metadata": {
    "colab": {
     "base_uri": "https://localhost:8080/",
     "height": 34
    },
    "colab_type": "code",
    "id": "9WhNb_moUoyf",
    "outputId": "f631e436-7f0b-44f7-fe5d-7f760f8b618a"
   },
   "outputs": [
    {
     "data": {
      "text/plain": [
       "LinearRegression(copy_X=True, fit_intercept=True, n_jobs=None, normalize=True)"
      ]
     },
     "execution_count": 147,
     "metadata": {
      "tags": []
     },
     "output_type": "execute_result"
    }
   ],
   "source": [
    "model_lr.fit(train_x, train_y)"
   ]
  },
  {
   "cell_type": "code",
   "execution_count": 148,
   "metadata": {
    "colab": {},
    "colab_type": "code",
    "id": "eO5yCYR_Uovj"
   },
   "outputs": [],
   "source": [
    "pred_lr = model_lr.predict(valid_x)"
   ]
  },
  {
   "cell_type": "code",
   "execution_count": 150,
   "metadata": {
    "colab": {},
    "colab_type": "code",
    "id": "foZve6lBdn6t"
   },
   "outputs": [],
   "source": [
    "pred_lr = pd.DataFrame(pred_lr, columns = ['lr'])\n",
    "pred_lr['lr'] = pred_lr['lr'].apply(lambda x: 0 if x<0 else x)"
   ]
  },
  {
   "cell_type": "code",
   "execution_count": 168,
   "metadata": {
    "colab": {
     "base_uri": "https://localhost:8080/",
     "height": 34
    },
    "colab_type": "code",
    "id": "z1U4p1e3UosC",
    "outputId": "d0992a26-9d1a-42ac-bd21-467ae9e860d5"
   },
   "outputs": [
    {
     "data": {
      "text/plain": [
       "168.94393265703295"
      ]
     },
     "execution_count": 168,
     "metadata": {},
     "output_type": "execute_result"
    }
   ],
   "source": [
    "get_rmsle(valid_y, pred_lr['lr'])"
   ]
  },
  {
   "cell_type": "markdown",
   "metadata": {
    "colab_type": "text",
    "id": "73vkih-QdRdE"
   },
   "source": [
    "# Decision Tree"
   ]
  },
  {
   "cell_type": "code",
   "execution_count": 152,
   "metadata": {
    "colab": {},
    "colab_type": "code",
    "id": "nqp1ouUWSAhM"
   },
   "outputs": [],
   "source": [
    "model_dt = DecisionTreeRegressor(max_features = 0.5, max_depth=7, random_state=0)"
   ]
  },
  {
   "cell_type": "code",
   "execution_count": 153,
   "metadata": {
    "colab": {
     "base_uri": "https://localhost:8080/",
     "height": 121
    },
    "colab_type": "code",
    "id": "XG5dykxvSAhP",
    "outputId": "22e9ab37-38ab-40f3-cc72-e5ed3422c10e"
   },
   "outputs": [
    {
     "data": {
      "text/plain": [
       "DecisionTreeRegressor(criterion='mse', max_depth=7, max_features=0.5,\n",
       "                      max_leaf_nodes=None, min_impurity_decrease=0.0,\n",
       "                      min_impurity_split=None, min_samples_leaf=1,\n",
       "                      min_samples_split=2, min_weight_fraction_leaf=0.0,\n",
       "                      presort=False, random_state=0, splitter='best')"
      ]
     },
     "execution_count": 153,
     "metadata": {},
     "output_type": "execute_result"
    }
   ],
   "source": [
    "model_dt.fit(train_x, train_y)"
   ]
  },
  {
   "cell_type": "code",
   "execution_count": 154,
   "metadata": {
    "colab": {},
    "colab_type": "code",
    "id": "n_N9te2mSAhR"
   },
   "outputs": [],
   "source": [
    "pred_dt = model_dt.predict(valid_x)"
   ]
  },
  {
   "cell_type": "code",
   "execution_count": 155,
   "metadata": {
    "colab": {
     "base_uri": "https://localhost:8080/",
     "height": 34
    },
    "colab_type": "code",
    "id": "P9aTNPaBSAhT",
    "outputId": "0c5944f1-5318-47d0-9f38-6160c5c438d7"
   },
   "outputs": [
    {
     "data": {
      "text/plain": [
       "91.85125745571428"
      ]
     },
     "execution_count": 155,
     "metadata": {},
     "output_type": "execute_result"
    }
   ],
   "source": [
    "get_rmsle(valid_y, pred_dt)"
   ]
  },
  {
   "cell_type": "markdown",
   "metadata": {
    "colab_type": "text",
    "id": "CNwmuDcDSAhV"
   },
   "source": [
    "# Advanced Ensemble Models"
   ]
  },
  {
   "cell_type": "markdown",
   "metadata": {
    "colab_type": "text",
    "id": "0vu9hXeVSAhW"
   },
   "source": [
    "### Random Forest model "
   ]
  },
  {
   "cell_type": "code",
   "execution_count": 156,
   "metadata": {
    "colab": {},
    "colab_type": "code",
    "id": "cFJl0l2vSAhc"
   },
   "outputs": [],
   "source": [
    "model_rf = RandomForestRegressor(n_estimators = 100, max_depth =7, random_state=1)"
   ]
  },
  {
   "cell_type": "code",
   "execution_count": 157,
   "metadata": {
    "colab": {
     "base_uri": "https://localhost:8080/",
     "height": 139
    },
    "colab_type": "code",
    "id": "qHbl6BRJSAhg",
    "outputId": "664ac5a1-c991-45ec-c4e7-fc3a770bcd41"
   },
   "outputs": [
    {
     "data": {
      "text/plain": [
       "RandomForestRegressor(bootstrap=True, criterion='mse', max_depth=7,\n",
       "                      max_features='auto', max_leaf_nodes=None,\n",
       "                      min_impurity_decrease=0.0, min_impurity_split=None,\n",
       "                      min_samples_leaf=1, min_samples_split=2,\n",
       "                      min_weight_fraction_leaf=0.0, n_estimators=100,\n",
       "                      n_jobs=None, oob_score=False, random_state=1, verbose=0,\n",
       "                      warm_start=False)"
      ]
     },
     "execution_count": 157,
     "metadata": {},
     "output_type": "execute_result"
    }
   ],
   "source": [
    "model_rf.fit(train_x, train_y)"
   ]
  },
  {
   "cell_type": "code",
   "execution_count": 158,
   "metadata": {
    "colab": {},
    "colab_type": "code",
    "id": "17oT5WjQSAhi"
   },
   "outputs": [],
   "source": [
    "pred_rf = model_rf.predict(valid_x)"
   ]
  },
  {
   "cell_type": "code",
   "execution_count": 159,
   "metadata": {
    "colab": {
     "base_uri": "https://localhost:8080/",
     "height": 34
    },
    "colab_type": "code",
    "id": "SbRVpwbzSAhl",
    "outputId": "6d01b149-c9d1-405b-f239-e115d8c2d0e5"
   },
   "outputs": [
    {
     "data": {
      "text/plain": [
       "85.50826770663437"
      ]
     },
     "execution_count": 159,
     "metadata": {},
     "output_type": "execute_result"
    }
   ],
   "source": [
    "get_rmsle(valid_y, pred_rf)"
   ]
  },
  {
   "cell_type": "code",
   "execution_count": null,
   "metadata": {
    "colab": {},
    "colab_type": "code",
    "id": "4Cuqst0aSAiE"
   },
   "outputs": [],
   "source": []
  },
  {
   "cell_type": "markdown",
   "metadata": {
    "colab_type": "text",
    "id": "sVzobqVvSAiG"
   },
   "source": [
    "### XGBoost Model"
   ]
  },
  {
   "cell_type": "code",
   "execution_count": 160,
   "metadata": {
    "colab": {},
    "colab_type": "code",
    "id": "tK3U7zavSAiI"
   },
   "outputs": [],
   "source": [
    "model_XGB = xgb.XGBRegressor(n_estimators = 200, max_depth = 8,random_state = 0)"
   ]
  },
  {
   "cell_type": "code",
   "execution_count": 161,
   "metadata": {
    "colab": {
     "base_uri": "https://localhost:8080/",
     "height": 176
    },
    "colab_type": "code",
    "id": "7JqdVYQcSAiL",
    "outputId": "321c1d1e-fa81-4025-9768-311e16943d67"
   },
   "outputs": [
    {
     "name": "stdout",
     "output_type": "stream",
     "text": [
      "[17:41:46] WARNING: /workspace/src/objective/regression_obj.cu:152: reg:linear is now deprecated in favor of reg:squarederror.\n"
     ]
    },
    {
     "data": {
      "text/plain": [
       "XGBRegressor(base_score=0.5, booster='gbtree', colsample_bylevel=1,\n",
       "             colsample_bynode=1, colsample_bytree=1, gamma=0,\n",
       "             importance_type='gain', learning_rate=0.1, max_delta_step=0,\n",
       "             max_depth=8, min_child_weight=1, missing=None, n_estimators=200,\n",
       "             n_jobs=1, nthread=None, objective='reg:linear', random_state=0,\n",
       "             reg_alpha=0, reg_lambda=1, scale_pos_weight=1, seed=None,\n",
       "             silent=None, subsample=1, verbosity=1)"
      ]
     },
     "execution_count": 161,
     "metadata": {},
     "output_type": "execute_result"
    }
   ],
   "source": [
    "model_XGB.fit(train_x, train_y)"
   ]
  },
  {
   "cell_type": "code",
   "execution_count": 162,
   "metadata": {
    "colab": {},
    "colab_type": "code",
    "id": "nLBoQ2lvSAiN"
   },
   "outputs": [],
   "source": [
    "pred_xgb= model_XGB.predict(valid_x)\n",
    "pred_xgb = pd.DataFrame(pred_xgb, columns = ['xgb'])\n",
    "pred_xgb['xgb'] = pred_xgb['xgb'].apply(lambda x: 0 if x<0 else x)"
   ]
  },
  {
   "cell_type": "code",
   "execution_count": 163,
   "metadata": {
    "colab": {
     "base_uri": "https://localhost:8080/",
     "height": 34
    },
    "colab_type": "code",
    "id": "AnUQv0eESAiO",
    "outputId": "27b0807b-575f-47ed-a6dd-a1146963d023"
   },
   "outputs": [
    {
     "data": {
      "text/plain": [
       "64.04724805410989"
      ]
     },
     "execution_count": 163,
     "metadata": {},
     "output_type": "execute_result"
    }
   ],
   "source": [
    "get_rmsle(valid_y, pred_xgb['xgb'])"
   ]
  },
  {
   "cell_type": "code",
   "execution_count": null,
   "metadata": {
    "colab": {},
    "colab_type": "code",
    "id": "Oh4fs2dfu8wL"
   },
   "outputs": [],
   "source": []
  },
  {
   "cell_type": "markdown",
   "metadata": {
    "colab": {},
    "colab_type": "code",
    "id": "aLB9p65Ou8oj"
   },
   "source": [
    "## Weighted Averaging"
   ]
  },
  {
   "cell_type": "code",
   "execution_count": 169,
   "metadata": {
    "colab": {},
    "colab_type": "code",
    "id": "jMJ1neyxSAiR"
   },
   "outputs": [],
   "source": [
    "from statistics import mean\n",
    "final_pred = np.array([])\n",
    "for i in range(0,len(valid_x)):\n",
    "    final_pred = np.append(final_pred, mean([pred_rf[i], pred_xgb['xgb'][i], pred_xgb['xgb'][i]]))"
   ]
  },
  {
   "cell_type": "code",
   "execution_count": 170,
   "metadata": {
    "colab": {
     "base_uri": "https://localhost:8080/",
     "height": 34
    },
    "colab_type": "code",
    "id": "lcId5iylu7G_",
    "outputId": "09c75752-4a7e-42f8-f87a-6b86015153e2"
   },
   "outputs": [
    {
     "data": {
      "text/plain": [
       "63.405669575574706"
      ]
     },
     "execution_count": 170,
     "metadata": {},
     "output_type": "execute_result"
    }
   ],
   "source": [
    "get_rmsle(valid_y, final_pred)"
   ]
  },
  {
   "cell_type": "code",
   "execution_count": null,
   "metadata": {},
   "outputs": [],
   "source": []
  },
  {
   "cell_type": "code",
   "execution_count": null,
   "metadata": {},
   "outputs": [],
   "source": []
  },
  {
   "cell_type": "code",
   "execution_count": null,
   "metadata": {},
   "outputs": [],
   "source": []
  },
  {
   "cell_type": "code",
   "execution_count": null,
   "metadata": {},
   "outputs": [],
   "source": []
  },
  {
   "cell_type": "code",
   "execution_count": null,
   "metadata": {},
   "outputs": [],
   "source": []
  },
  {
   "cell_type": "code",
   "execution_count": null,
   "metadata": {},
   "outputs": [],
   "source": []
  },
  {
   "cell_type": "code",
   "execution_count": null,
   "metadata": {},
   "outputs": [],
   "source": []
  },
  {
   "cell_type": "code",
   "execution_count": null,
   "metadata": {},
   "outputs": [],
   "source": []
  },
  {
   "cell_type": "code",
   "execution_count": null,
   "metadata": {},
   "outputs": [],
   "source": []
  },
  {
   "cell_type": "code",
   "execution_count": 0,
   "metadata": {
    "colab": {},
    "colab_type": "code",
    "id": "JdKX4vSkvE3p"
   },
   "outputs": [],
   "source": []
  },
  {
   "cell_type": "code",
   "execution_count": 164,
   "metadata": {
    "colab": {},
    "colab_type": "code",
    "id": "Ipb1gsx9Uo12"
   },
   "outputs": [],
   "source": [
    "model_lr = LinearRegression(normalize=True)"
   ]
  },
  {
   "cell_type": "code",
   "execution_count": 165,
   "metadata": {
    "colab": {
     "base_uri": "https://localhost:8080/",
     "height": 34
    },
    "colab_type": "code",
    "id": "9WhNb_moUoyf",
    "outputId": "f631e436-7f0b-44f7-fe5d-7f760f8b618a"
   },
   "outputs": [
    {
     "data": {
      "text/plain": [
       "LinearRegression(copy_X=True, fit_intercept=True, n_jobs=None, normalize=True)"
      ]
     },
     "execution_count": 165,
     "metadata": {},
     "output_type": "execute_result"
    }
   ],
   "source": [
    "model_lr.fit(train_x, train_y)"
   ]
  },
  {
   "cell_type": "code",
   "execution_count": 166,
   "metadata": {
    "colab": {},
    "colab_type": "code",
    "id": "eO5yCYR_Uovj"
   },
   "outputs": [],
   "source": [
    "pred_lr = model_lr.predict(valid_x)"
   ]
  },
  {
   "cell_type": "code",
   "execution_count": 167,
   "metadata": {
    "colab": {},
    "colab_type": "code",
    "id": "foZve6lBdn6t"
   },
   "outputs": [],
   "source": [
    "pred_lr = pd.DataFrame(pred_lr, columns = ['lr'])\n",
    "pred_lr['lr'] = pred_lr['lr'].apply(lambda x: 0 if x<0 else x)"
   ]
  },
  {
   "cell_type": "code",
   "execution_count": 168,
   "metadata": {
    "colab": {
     "base_uri": "https://localhost:8080/",
     "height": 34
    },
    "colab_type": "code",
    "id": "z1U4p1e3UosC",
    "outputId": "d0992a26-9d1a-42ac-bd21-467ae9e860d5"
   },
   "outputs": [
    {
     "data": {
      "text/plain": [
       "168.94393265703295"
      ]
     },
     "execution_count": 168,
     "metadata": {},
     "output_type": "execute_result"
    }
   ],
   "source": [
    "get_rmsle(valid_y, pred_lr['lr'])"
   ]
  },
  {
   "cell_type": "code",
   "execution_count": null,
   "metadata": {},
   "outputs": [],
   "source": []
  }
 ],
 "metadata": {
  "colab": {
   "name": "Final Solution - food demand forecasting.ipynb",
   "provenance": [],
   "toc_visible": true
  },
  "kernelspec": {
   "display_name": "Python 3",
   "language": "python",
   "name": "python3"
  },
  "language_info": {
   "codemirror_mode": {
    "name": "ipython",
    "version": 3
   },
   "file_extension": ".py",
   "mimetype": "text/x-python",
   "name": "python",
   "nbconvert_exporter": "python",
   "pygments_lexer": "ipython3",
   "version": "3.7.4"
  }
 },
 "nbformat": 4,
 "nbformat_minor": 1
}
